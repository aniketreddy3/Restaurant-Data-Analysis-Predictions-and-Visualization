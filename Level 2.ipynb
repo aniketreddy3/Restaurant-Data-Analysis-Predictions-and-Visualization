{
 "cells": [
  {
   "cell_type": "markdown",
   "id": "d3df5980",
   "metadata": {},
   "source": [
    "<h1>Restaurant Data Analysis Level 2</h1>"
   ]
  },
  {
   "cell_type": "markdown",
   "id": "b6fca0e7",
   "metadata": {},
   "source": [
    "**Summary**\n",
    "\n",
    "Task 1: Table Booking and Online Delivery Analysis\n",
    "\n",
    "- Calculated the percentage of restaurants offering table booking and online delivery services.\n",
    "- Conducted a comparative analysis of average ratings for restaurants with and without table booking.\n",
    "- Explored the availability of online delivery options across various price ranges, revealing valuable insights into customer preferences.\n",
    "\n",
    "Task 2: Price Range Analysis\n",
    "\n",
    "- Determined the most common price range among all restaurants.\n",
    "- Computed the average rating for each price range, helping identify high-performing price segments.\n",
    "- Identified the color associated with the highest average rating, simplifying the identification of top-rated price ranges.\n",
    "\n",
    "Task 3: Feature Engineering\n",
    "\n",
    "- Employed advanced feature engineering techniques to extract additional insights from existing columns.\n",
    "- Generated new features like \"Has Table Booking\" and \"Has Online Delivery\" by encoding categorical variables, enhancing the dataset's intelligence."
   ]
  },
  {
   "cell_type": "code",
   "execution_count": 1,
   "id": "2d152d8a",
   "metadata": {},
   "outputs": [],
   "source": [
    "#importing necessary libraries\n",
    "import numpy as np\n",
    "import pandas as pd\n",
    "import matplotlib.pyplot as plt\n",
    "import seaborn as sns"
   ]
  },
  {
   "cell_type": "code",
   "execution_count": 2,
   "id": "40f684d5",
   "metadata": {},
   "outputs": [],
   "source": [
    "#reading the dataset\n",
    "df=pd.read_csv('Dataset .csv')"
   ]
  },
  {
   "cell_type": "code",
   "execution_count": 3,
   "id": "a44c2bc9",
   "metadata": {},
   "outputs": [
    {
     "data": {
      "text/html": [
       "<div>\n",
       "<style scoped>\n",
       "    .dataframe tbody tr th:only-of-type {\n",
       "        vertical-align: middle;\n",
       "    }\n",
       "\n",
       "    .dataframe tbody tr th {\n",
       "        vertical-align: top;\n",
       "    }\n",
       "\n",
       "    .dataframe thead th {\n",
       "        text-align: right;\n",
       "    }\n",
       "</style>\n",
       "<table border=\"1\" class=\"dataframe\">\n",
       "  <thead>\n",
       "    <tr style=\"text-align: right;\">\n",
       "      <th></th>\n",
       "      <th>Restaurant ID</th>\n",
       "      <th>Restaurant Name</th>\n",
       "      <th>Country Code</th>\n",
       "      <th>City</th>\n",
       "      <th>Address</th>\n",
       "      <th>Locality</th>\n",
       "      <th>Locality Verbose</th>\n",
       "      <th>Longitude</th>\n",
       "      <th>Latitude</th>\n",
       "      <th>Cuisines</th>\n",
       "      <th>...</th>\n",
       "      <th>Currency</th>\n",
       "      <th>Has Table booking</th>\n",
       "      <th>Has Online delivery</th>\n",
       "      <th>Is delivering now</th>\n",
       "      <th>Switch to order menu</th>\n",
       "      <th>Price range</th>\n",
       "      <th>Aggregate rating</th>\n",
       "      <th>Rating color</th>\n",
       "      <th>Rating text</th>\n",
       "      <th>Votes</th>\n",
       "    </tr>\n",
       "  </thead>\n",
       "  <tbody>\n",
       "    <tr>\n",
       "      <th>0</th>\n",
       "      <td>6317637</td>\n",
       "      <td>Le Petit Souffle</td>\n",
       "      <td>162</td>\n",
       "      <td>Makati City</td>\n",
       "      <td>Third Floor, Century City Mall, Kalayaan Avenu...</td>\n",
       "      <td>Century City Mall, Poblacion, Makati City</td>\n",
       "      <td>Century City Mall, Poblacion, Makati City, Mak...</td>\n",
       "      <td>121.027535</td>\n",
       "      <td>14.565443</td>\n",
       "      <td>French, Japanese, Desserts</td>\n",
       "      <td>...</td>\n",
       "      <td>Botswana Pula(P)</td>\n",
       "      <td>Yes</td>\n",
       "      <td>No</td>\n",
       "      <td>No</td>\n",
       "      <td>No</td>\n",
       "      <td>3</td>\n",
       "      <td>4.8</td>\n",
       "      <td>Dark Green</td>\n",
       "      <td>Excellent</td>\n",
       "      <td>314</td>\n",
       "    </tr>\n",
       "    <tr>\n",
       "      <th>1</th>\n",
       "      <td>6304287</td>\n",
       "      <td>Izakaya Kikufuji</td>\n",
       "      <td>162</td>\n",
       "      <td>Makati City</td>\n",
       "      <td>Little Tokyo, 2277 Chino Roces Avenue, Legaspi...</td>\n",
       "      <td>Little Tokyo, Legaspi Village, Makati City</td>\n",
       "      <td>Little Tokyo, Legaspi Village, Makati City, Ma...</td>\n",
       "      <td>121.014101</td>\n",
       "      <td>14.553708</td>\n",
       "      <td>Japanese</td>\n",
       "      <td>...</td>\n",
       "      <td>Botswana Pula(P)</td>\n",
       "      <td>Yes</td>\n",
       "      <td>No</td>\n",
       "      <td>No</td>\n",
       "      <td>No</td>\n",
       "      <td>3</td>\n",
       "      <td>4.5</td>\n",
       "      <td>Dark Green</td>\n",
       "      <td>Excellent</td>\n",
       "      <td>591</td>\n",
       "    </tr>\n",
       "    <tr>\n",
       "      <th>2</th>\n",
       "      <td>6300002</td>\n",
       "      <td>Heat - Edsa Shangri-La</td>\n",
       "      <td>162</td>\n",
       "      <td>Mandaluyong City</td>\n",
       "      <td>Edsa Shangri-La, 1 Garden Way, Ortigas, Mandal...</td>\n",
       "      <td>Edsa Shangri-La, Ortigas, Mandaluyong City</td>\n",
       "      <td>Edsa Shangri-La, Ortigas, Mandaluyong City, Ma...</td>\n",
       "      <td>121.056831</td>\n",
       "      <td>14.581404</td>\n",
       "      <td>Seafood, Asian, Filipino, Indian</td>\n",
       "      <td>...</td>\n",
       "      <td>Botswana Pula(P)</td>\n",
       "      <td>Yes</td>\n",
       "      <td>No</td>\n",
       "      <td>No</td>\n",
       "      <td>No</td>\n",
       "      <td>4</td>\n",
       "      <td>4.4</td>\n",
       "      <td>Green</td>\n",
       "      <td>Very Good</td>\n",
       "      <td>270</td>\n",
       "    </tr>\n",
       "    <tr>\n",
       "      <th>3</th>\n",
       "      <td>6318506</td>\n",
       "      <td>Ooma</td>\n",
       "      <td>162</td>\n",
       "      <td>Mandaluyong City</td>\n",
       "      <td>Third Floor, Mega Fashion Hall, SM Megamall, O...</td>\n",
       "      <td>SM Megamall, Ortigas, Mandaluyong City</td>\n",
       "      <td>SM Megamall, Ortigas, Mandaluyong City, Mandal...</td>\n",
       "      <td>121.056475</td>\n",
       "      <td>14.585318</td>\n",
       "      <td>Japanese, Sushi</td>\n",
       "      <td>...</td>\n",
       "      <td>Botswana Pula(P)</td>\n",
       "      <td>No</td>\n",
       "      <td>No</td>\n",
       "      <td>No</td>\n",
       "      <td>No</td>\n",
       "      <td>4</td>\n",
       "      <td>4.9</td>\n",
       "      <td>Dark Green</td>\n",
       "      <td>Excellent</td>\n",
       "      <td>365</td>\n",
       "    </tr>\n",
       "    <tr>\n",
       "      <th>4</th>\n",
       "      <td>6314302</td>\n",
       "      <td>Sambo Kojin</td>\n",
       "      <td>162</td>\n",
       "      <td>Mandaluyong City</td>\n",
       "      <td>Third Floor, Mega Atrium, SM Megamall, Ortigas...</td>\n",
       "      <td>SM Megamall, Ortigas, Mandaluyong City</td>\n",
       "      <td>SM Megamall, Ortigas, Mandaluyong City, Mandal...</td>\n",
       "      <td>121.057508</td>\n",
       "      <td>14.584450</td>\n",
       "      <td>Japanese, Korean</td>\n",
       "      <td>...</td>\n",
       "      <td>Botswana Pula(P)</td>\n",
       "      <td>Yes</td>\n",
       "      <td>No</td>\n",
       "      <td>No</td>\n",
       "      <td>No</td>\n",
       "      <td>4</td>\n",
       "      <td>4.8</td>\n",
       "      <td>Dark Green</td>\n",
       "      <td>Excellent</td>\n",
       "      <td>229</td>\n",
       "    </tr>\n",
       "  </tbody>\n",
       "</table>\n",
       "<p>5 rows × 21 columns</p>\n",
       "</div>"
      ],
      "text/plain": [
       "   Restaurant ID         Restaurant Name  Country Code              City  \\\n",
       "0        6317637        Le Petit Souffle           162       Makati City   \n",
       "1        6304287        Izakaya Kikufuji           162       Makati City   \n",
       "2        6300002  Heat - Edsa Shangri-La           162  Mandaluyong City   \n",
       "3        6318506                    Ooma           162  Mandaluyong City   \n",
       "4        6314302             Sambo Kojin           162  Mandaluyong City   \n",
       "\n",
       "                                             Address  \\\n",
       "0  Third Floor, Century City Mall, Kalayaan Avenu...   \n",
       "1  Little Tokyo, 2277 Chino Roces Avenue, Legaspi...   \n",
       "2  Edsa Shangri-La, 1 Garden Way, Ortigas, Mandal...   \n",
       "3  Third Floor, Mega Fashion Hall, SM Megamall, O...   \n",
       "4  Third Floor, Mega Atrium, SM Megamall, Ortigas...   \n",
       "\n",
       "                                     Locality  \\\n",
       "0   Century City Mall, Poblacion, Makati City   \n",
       "1  Little Tokyo, Legaspi Village, Makati City   \n",
       "2  Edsa Shangri-La, Ortigas, Mandaluyong City   \n",
       "3      SM Megamall, Ortigas, Mandaluyong City   \n",
       "4      SM Megamall, Ortigas, Mandaluyong City   \n",
       "\n",
       "                                    Locality Verbose   Longitude   Latitude  \\\n",
       "0  Century City Mall, Poblacion, Makati City, Mak...  121.027535  14.565443   \n",
       "1  Little Tokyo, Legaspi Village, Makati City, Ma...  121.014101  14.553708   \n",
       "2  Edsa Shangri-La, Ortigas, Mandaluyong City, Ma...  121.056831  14.581404   \n",
       "3  SM Megamall, Ortigas, Mandaluyong City, Mandal...  121.056475  14.585318   \n",
       "4  SM Megamall, Ortigas, Mandaluyong City, Mandal...  121.057508  14.584450   \n",
       "\n",
       "                           Cuisines  ...          Currency Has Table booking  \\\n",
       "0        French, Japanese, Desserts  ...  Botswana Pula(P)               Yes   \n",
       "1                          Japanese  ...  Botswana Pula(P)               Yes   \n",
       "2  Seafood, Asian, Filipino, Indian  ...  Botswana Pula(P)               Yes   \n",
       "3                   Japanese, Sushi  ...  Botswana Pula(P)                No   \n",
       "4                  Japanese, Korean  ...  Botswana Pula(P)               Yes   \n",
       "\n",
       "  Has Online delivery Is delivering now Switch to order menu Price range  \\\n",
       "0                  No                No                   No           3   \n",
       "1                  No                No                   No           3   \n",
       "2                  No                No                   No           4   \n",
       "3                  No                No                   No           4   \n",
       "4                  No                No                   No           4   \n",
       "\n",
       "   Aggregate rating  Rating color Rating text Votes  \n",
       "0               4.8    Dark Green   Excellent   314  \n",
       "1               4.5    Dark Green   Excellent   591  \n",
       "2               4.4         Green   Very Good   270  \n",
       "3               4.9    Dark Green   Excellent   365  \n",
       "4               4.8    Dark Green   Excellent   229  \n",
       "\n",
       "[5 rows x 21 columns]"
      ]
     },
     "execution_count": 3,
     "metadata": {},
     "output_type": "execute_result"
    }
   ],
   "source": [
    "#EDA\n",
    "df.head()"
   ]
  },
  {
   "cell_type": "code",
   "execution_count": 4,
   "id": "3935c4ac",
   "metadata": {},
   "outputs": [
    {
     "name": "stdout",
     "output_type": "stream",
     "text": [
      "<class 'pandas.core.frame.DataFrame'>\n",
      "RangeIndex: 9551 entries, 0 to 9550\n",
      "Data columns (total 21 columns):\n",
      " #   Column                Non-Null Count  Dtype  \n",
      "---  ------                --------------  -----  \n",
      " 0   Restaurant ID         9551 non-null   int64  \n",
      " 1   Restaurant Name       9551 non-null   object \n",
      " 2   Country Code          9551 non-null   int64  \n",
      " 3   City                  9551 non-null   object \n",
      " 4   Address               9551 non-null   object \n",
      " 5   Locality              9551 non-null   object \n",
      " 6   Locality Verbose      9551 non-null   object \n",
      " 7   Longitude             9551 non-null   float64\n",
      " 8   Latitude              9551 non-null   float64\n",
      " 9   Cuisines              9542 non-null   object \n",
      " 10  Average Cost for two  9551 non-null   int64  \n",
      " 11  Currency              9551 non-null   object \n",
      " 12  Has Table booking     9551 non-null   object \n",
      " 13  Has Online delivery   9551 non-null   object \n",
      " 14  Is delivering now     9551 non-null   object \n",
      " 15  Switch to order menu  9551 non-null   object \n",
      " 16  Price range           9551 non-null   int64  \n",
      " 17  Aggregate rating      9551 non-null   float64\n",
      " 18  Rating color          9551 non-null   object \n",
      " 19  Rating text           9551 non-null   object \n",
      " 20  Votes                 9551 non-null   int64  \n",
      "dtypes: float64(3), int64(5), object(13)\n",
      "memory usage: 1.5+ MB\n"
     ]
    }
   ],
   "source": [
    "df.info()\n",
    "#to get a general info of the dataframe"
   ]
  },
  {
   "cell_type": "code",
   "execution_count": 5,
   "id": "ab71a4f8",
   "metadata": {},
   "outputs": [
    {
     "data": {
      "text/html": [
       "<div>\n",
       "<style scoped>\n",
       "    .dataframe tbody tr th:only-of-type {\n",
       "        vertical-align: middle;\n",
       "    }\n",
       "\n",
       "    .dataframe tbody tr th {\n",
       "        vertical-align: top;\n",
       "    }\n",
       "\n",
       "    .dataframe thead th {\n",
       "        text-align: right;\n",
       "    }\n",
       "</style>\n",
       "<table border=\"1\" class=\"dataframe\">\n",
       "  <thead>\n",
       "    <tr style=\"text-align: right;\">\n",
       "      <th></th>\n",
       "      <th>Restaurant ID</th>\n",
       "      <th>Country Code</th>\n",
       "      <th>Longitude</th>\n",
       "      <th>Latitude</th>\n",
       "      <th>Average Cost for two</th>\n",
       "      <th>Price range</th>\n",
       "      <th>Aggregate rating</th>\n",
       "      <th>Votes</th>\n",
       "    </tr>\n",
       "  </thead>\n",
       "  <tbody>\n",
       "    <tr>\n",
       "      <th>count</th>\n",
       "      <td>9.551000e+03</td>\n",
       "      <td>9551.000000</td>\n",
       "      <td>9551.000000</td>\n",
       "      <td>9551.000000</td>\n",
       "      <td>9551.000000</td>\n",
       "      <td>9551.000000</td>\n",
       "      <td>9551.000000</td>\n",
       "      <td>9551.000000</td>\n",
       "    </tr>\n",
       "    <tr>\n",
       "      <th>mean</th>\n",
       "      <td>9.051128e+06</td>\n",
       "      <td>18.365616</td>\n",
       "      <td>64.126574</td>\n",
       "      <td>25.854381</td>\n",
       "      <td>1199.210763</td>\n",
       "      <td>1.804837</td>\n",
       "      <td>2.666370</td>\n",
       "      <td>156.909748</td>\n",
       "    </tr>\n",
       "    <tr>\n",
       "      <th>std</th>\n",
       "      <td>8.791521e+06</td>\n",
       "      <td>56.750546</td>\n",
       "      <td>41.467058</td>\n",
       "      <td>11.007935</td>\n",
       "      <td>16121.183073</td>\n",
       "      <td>0.905609</td>\n",
       "      <td>1.516378</td>\n",
       "      <td>430.169145</td>\n",
       "    </tr>\n",
       "    <tr>\n",
       "      <th>min</th>\n",
       "      <td>5.300000e+01</td>\n",
       "      <td>1.000000</td>\n",
       "      <td>-157.948486</td>\n",
       "      <td>-41.330428</td>\n",
       "      <td>0.000000</td>\n",
       "      <td>1.000000</td>\n",
       "      <td>0.000000</td>\n",
       "      <td>0.000000</td>\n",
       "    </tr>\n",
       "    <tr>\n",
       "      <th>25%</th>\n",
       "      <td>3.019625e+05</td>\n",
       "      <td>1.000000</td>\n",
       "      <td>77.081343</td>\n",
       "      <td>28.478713</td>\n",
       "      <td>250.000000</td>\n",
       "      <td>1.000000</td>\n",
       "      <td>2.500000</td>\n",
       "      <td>5.000000</td>\n",
       "    </tr>\n",
       "    <tr>\n",
       "      <th>50%</th>\n",
       "      <td>6.004089e+06</td>\n",
       "      <td>1.000000</td>\n",
       "      <td>77.191964</td>\n",
       "      <td>28.570469</td>\n",
       "      <td>400.000000</td>\n",
       "      <td>2.000000</td>\n",
       "      <td>3.200000</td>\n",
       "      <td>31.000000</td>\n",
       "    </tr>\n",
       "    <tr>\n",
       "      <th>75%</th>\n",
       "      <td>1.835229e+07</td>\n",
       "      <td>1.000000</td>\n",
       "      <td>77.282006</td>\n",
       "      <td>28.642758</td>\n",
       "      <td>700.000000</td>\n",
       "      <td>2.000000</td>\n",
       "      <td>3.700000</td>\n",
       "      <td>131.000000</td>\n",
       "    </tr>\n",
       "    <tr>\n",
       "      <th>max</th>\n",
       "      <td>1.850065e+07</td>\n",
       "      <td>216.000000</td>\n",
       "      <td>174.832089</td>\n",
       "      <td>55.976980</td>\n",
       "      <td>800000.000000</td>\n",
       "      <td>4.000000</td>\n",
       "      <td>4.900000</td>\n",
       "      <td>10934.000000</td>\n",
       "    </tr>\n",
       "  </tbody>\n",
       "</table>\n",
       "</div>"
      ],
      "text/plain": [
       "       Restaurant ID  Country Code    Longitude     Latitude  \\\n",
       "count   9.551000e+03   9551.000000  9551.000000  9551.000000   \n",
       "mean    9.051128e+06     18.365616    64.126574    25.854381   \n",
       "std     8.791521e+06     56.750546    41.467058    11.007935   \n",
       "min     5.300000e+01      1.000000  -157.948486   -41.330428   \n",
       "25%     3.019625e+05      1.000000    77.081343    28.478713   \n",
       "50%     6.004089e+06      1.000000    77.191964    28.570469   \n",
       "75%     1.835229e+07      1.000000    77.282006    28.642758   \n",
       "max     1.850065e+07    216.000000   174.832089    55.976980   \n",
       "\n",
       "       Average Cost for two  Price range  Aggregate rating         Votes  \n",
       "count           9551.000000  9551.000000       9551.000000   9551.000000  \n",
       "mean            1199.210763     1.804837          2.666370    156.909748  \n",
       "std            16121.183073     0.905609          1.516378    430.169145  \n",
       "min                0.000000     1.000000          0.000000      0.000000  \n",
       "25%              250.000000     1.000000          2.500000      5.000000  \n",
       "50%              400.000000     2.000000          3.200000     31.000000  \n",
       "75%              700.000000     2.000000          3.700000    131.000000  \n",
       "max           800000.000000     4.000000          4.900000  10934.000000  "
      ]
     },
     "execution_count": 5,
     "metadata": {},
     "output_type": "execute_result"
    }
   ],
   "source": [
    "df.describe()\n",
    "#to get mean,deviation etc of the dataframe"
   ]
  },
  {
   "cell_type": "code",
   "execution_count": 6,
   "id": "6f32834c",
   "metadata": {},
   "outputs": [
    {
     "data": {
      "text/plain": [
       "<Axes: >"
      ]
     },
     "execution_count": 6,
     "metadata": {},
     "output_type": "execute_result"
    },
    {
     "data": {
      "image/png": "[encoded data removed]",
      "text/plain": [
       "<Figure size 640x480 with 2 Axes>"
      ]
     },
     "metadata": {},
     "output_type": "display_data"
    }
   ],
   "source": [
    "#to check for any null values\n",
    "sns.heatmap(df.notna())"
   ]
  },
  {
   "cell_type": "markdown",
   "id": "cfb08b9b",
   "metadata": {},
   "source": [
    "<h2>Task 1</h2>\n",
    "Table Booking and Online Delivery"
   ]
  },
  {
   "cell_type": "markdown",
   "id": "cda81cfb",
   "metadata": {},
   "source": [
    "**1. To determine the percentage of restaurants that\n",
    "offer table booking and online delivery**"
   ]
  },
  {
   "cell_type": "code",
   "execution_count": 7,
   "id": "33df2942",
   "metadata": {},
   "outputs": [],
   "source": [
    "restaurants_with_table_and_online=df[(df['Has Table booking']=='Yes') & (df['Has Online delivery']=='Yes')]\n",
    "restaurants_with_table = df[(df['Has Table booking']=='Yes') & (df['Has Online delivery']=='No')]\n",
    "restaurants_with_online= df[(df['Has Online delivery']=='Yes') & (df['Has Table booking']=='No')]"
   ]
  },
  {
   "cell_type": "code",
   "execution_count": 8,
   "id": "1307235d",
   "metadata": {},
   "outputs": [
    {
     "name": "stdout",
     "output_type": "stream",
     "text": [
      "percentage of restaurants that offer table booking and online delivery: 4.554496911318187 %\n",
      "percentage of restaurants that offer only table booking: 7.569887969846089 %\n",
      "percentage of restaurants that offer only online delivery: 21.10773740969532 %\n"
     ]
    }
   ],
   "source": [
    "#display the output\n",
    "print('percentage of restaurants that offer table booking and online delivery:',(len(restaurants_with_table_and_online)/len(df)*100),'%')\n",
    "print('percentage of restaurants that offer only table booking:',(len(restaurants_with_table)/len(df)*100),'%')\n",
    "print('percentage of restaurants that offer only online delivery:',(len(restaurants_with_online)/len(df)*100),'%')"
   ]
  },
  {
   "cell_type": "markdown",
   "id": "ca1872b1",
   "metadata": {},
   "source": [
    "**2. To compare the average ratings of restaurants\n",
    "with table booking and those without**"
   ]
  },
  {
   "cell_type": "code",
   "execution_count": 9,
   "id": "607b8018",
   "metadata": {},
   "outputs": [
    {
     "name": "stdout",
     "output_type": "stream",
     "text": [
      "Average rating of restaurants with and without table booking\n"
     ]
    },
    {
     "data": {
      "text/plain": [
       "Has Table booking\n",
       "No     2.559359\n",
       "Yes    3.441969\n",
       "Name: Aggregate rating, dtype: float64"
      ]
     },
     "execution_count": 9,
     "metadata": {},
     "output_type": "execute_result"
    }
   ],
   "source": [
    "#to display the average ratings of restaurants with and without table bookings\n",
    "print('Average rating of restaurants with and without table booking')\n",
    "df.groupby('Has Table booking').mean('Aggregate rating')['Aggregate rating']"
   ]
  },
  {
   "cell_type": "markdown",
   "id": "ae512e55",
   "metadata": {},
   "source": [
    "**3. To Analyze the availability of online delivery\n",
    "among restaurants with different price ranges**"
   ]
  },
  {
   "cell_type": "code",
   "execution_count": 10,
   "id": "d5ac90b5",
   "metadata": {},
   "outputs": [
    {
     "name": "stdout",
     "output_type": "stream",
     "text": [
      "Availability of online delivery among restaurants with different price ranges\n"
     ]
    },
    {
     "data": {
      "text/plain": [
       "Price range\n",
       "1    4444\n",
       "2    3113\n",
       "3    1408\n",
       "4     586\n",
       "Name: Has Online delivery, dtype: int64"
      ]
     },
     "execution_count": 10,
     "metadata": {},
     "output_type": "execute_result"
    }
   ],
   "source": [
    "print('Availability of online delivery among restaurants with different price ranges')\n",
    "df.groupby('Price range').count()['Has Online delivery']"
   ]
  },
  {
   "cell_type": "markdown",
   "id": "dbdaee3c",
   "metadata": {},
   "source": [
    "<h2> Task 2 </h2>\n",
    "Price Range Analysis"
   ]
  },
  {
   "cell_type": "markdown",
   "id": "063e0bbe",
   "metadata": {},
   "source": [
    "**1. To Determine the most common price range\n",
    "among all the restaurants**"
   ]
  },
  {
   "cell_type": "code",
   "execution_count": 11,
   "id": "b5ed6c42",
   "metadata": {},
   "outputs": [
    {
     "name": "stdout",
     "output_type": "stream",
     "text": [
      "the most common price range is: 1\n"
     ]
    }
   ],
   "source": [
    "#to display the common price range\n",
    "common_price_range= int(df['Price range'].mode()[0])\n",
    "print('the most common price range is:',common_price_range)"
   ]
  },
  {
   "cell_type": "markdown",
   "id": "d1ad2876",
   "metadata": {},
   "source": [
    "**2. To Calculate the average rating for each price\n",
    "range.**"
   ]
  },
  {
   "cell_type": "code",
   "execution_count": 12,
   "id": "52b34654",
   "metadata": {
    "scrolled": true
   },
   "outputs": [
    {
     "name": "stdout",
     "output_type": "stream",
     "text": [
      "The average ratings among different price ranges:\n"
     ]
    },
    {
     "data": {
      "text/plain": [
       "Price range\n",
       "1    1.999887\n",
       "2    2.941054\n",
       "3    3.683381\n",
       "4    3.817918\n",
       "Name: Aggregate rating, dtype: float64"
      ]
     },
     "execution_count": 12,
     "metadata": {},
     "output_type": "execute_result"
    }
   ],
   "source": [
    "print('The average ratings among different price ranges:')\n",
    "df.groupby('Price range')['Aggregate rating'].mean()\n",
    "#by grouping with the price range and performing mean on the aggregate rating, we can achieve the output."
   ]
  },
  {
   "cell_type": "markdown",
   "id": "7c26758d",
   "metadata": {},
   "source": [
    "**3. To Identify the color that represents the highest\n",
    "average rating among different price ranges**"
   ]
  },
  {
   "cell_type": "code",
   "execution_count": 13,
   "id": "f6ace0a5",
   "metadata": {},
   "outputs": [
    {
     "data": {
      "text/html": [
       "<div>\n",
       "<style scoped>\n",
       "    .dataframe tbody tr th:only-of-type {\n",
       "        vertical-align: middle;\n",
       "    }\n",
       "\n",
       "    .dataframe tbody tr th {\n",
       "        vertical-align: top;\n",
       "    }\n",
       "\n",
       "    .dataframe thead th {\n",
       "        text-align: right;\n",
       "    }\n",
       "</style>\n",
       "<table border=\"1\" class=\"dataframe\">\n",
       "  <thead>\n",
       "    <tr style=\"text-align: right;\">\n",
       "      <th></th>\n",
       "      <th>Restaurant ID</th>\n",
       "      <th>Country Code</th>\n",
       "      <th>Longitude</th>\n",
       "      <th>Latitude</th>\n",
       "      <th>Average Cost for two</th>\n",
       "      <th>Aggregate rating</th>\n",
       "      <th>Votes</th>\n",
       "    </tr>\n",
       "    <tr>\n",
       "      <th>Price range</th>\n",
       "      <th></th>\n",
       "      <th></th>\n",
       "      <th></th>\n",
       "      <th></th>\n",
       "      <th></th>\n",
       "      <th></th>\n",
       "      <th></th>\n",
       "    </tr>\n",
       "  </thead>\n",
       "  <tbody>\n",
       "    <tr>\n",
       "      <th>1</th>\n",
       "      <td>1.017772e+07</td>\n",
       "      <td>7.896265</td>\n",
       "      <td>67.032050</td>\n",
       "      <td>26.807458</td>\n",
       "      <td>275.182943</td>\n",
       "      <td>1.999887</td>\n",
       "      <td>44.597435</td>\n",
       "    </tr>\n",
       "    <tr>\n",
       "      <th>2</th>\n",
       "      <td>8.585929e+06</td>\n",
       "      <td>16.816254</td>\n",
       "      <td>63.657955</td>\n",
       "      <td>26.737424</td>\n",
       "      <td>596.826213</td>\n",
       "      <td>2.941054</td>\n",
       "      <td>147.607131</td>\n",
       "    </tr>\n",
       "    <tr>\n",
       "      <th>3</th>\n",
       "      <td>7.706136e+06</td>\n",
       "      <td>39.527699</td>\n",
       "      <td>58.793913</td>\n",
       "      <td>24.195927</td>\n",
       "      <td>5177.268466</td>\n",
       "      <td>3.683381</td>\n",
       "      <td>443.860795</td>\n",
       "    </tr>\n",
       "    <tr>\n",
       "      <th>4</th>\n",
       "      <td>6.210411e+06</td>\n",
       "      <td>55.145051</td>\n",
       "      <td>57.394946</td>\n",
       "      <td>17.920442</td>\n",
       "      <td>1848.523891</td>\n",
       "      <td>3.817918</td>\n",
       "      <td>368.595563</td>\n",
       "    </tr>\n",
       "  </tbody>\n",
       "</table>\n",
       "</div>"
      ],
      "text/plain": [
       "             Restaurant ID  Country Code  Longitude   Latitude  \\\n",
       "Price range                                                      \n",
       "1             1.017772e+07      7.896265  67.032050  26.807458   \n",
       "2             8.585929e+06     16.816254  63.657955  26.737424   \n",
       "3             7.706136e+06     39.527699  58.793913  24.195927   \n",
       "4             6.210411e+06     55.145051  57.394946  17.920442   \n",
       "\n",
       "             Average Cost for two  Aggregate rating       Votes  \n",
       "Price range                                                      \n",
       "1                      275.182943          1.999887   44.597435  \n",
       "2                      596.826213          2.941054  147.607131  \n",
       "3                     5177.268466          3.683381  443.860795  \n",
       "4                     1848.523891          3.817918  368.595563  "
      ]
     },
     "execution_count": 13,
     "metadata": {},
     "output_type": "execute_result"
    }
   ],
   "source": [
    "df.groupby('Price range').mean('Aggregate rating')"
   ]
  },
  {
   "cell_type": "code",
   "execution_count": 14,
   "id": "b70b3aec",
   "metadata": {},
   "outputs": [],
   "source": [
    "price_range_rating=dict(df.groupby('Price range')['Aggregate rating'].max())\n",
    "#create a variable converting the price range and maximum aggregate rating into a dictionary"
   ]
  },
  {
   "cell_type": "code",
   "execution_count": 15,
   "id": "72b1e490",
   "metadata": {},
   "outputs": [],
   "source": [
    "rating_to_color=dict(zip(df['Aggregate rating'],df['Rating color']))\n",
    "#created a dictionary consisting of aggregate rating and rating color"
   ]
  },
  {
   "cell_type": "code",
   "execution_count": 16,
   "id": "85a14fff",
   "metadata": {},
   "outputs": [],
   "source": [
    "for x in price_range_rating:\n",
    "    price_range_rating[x]=rating_to_color[price_range_rating[x]]\n",
    "#overriding the previous dictionary with rating color\n"
   ]
  },
  {
   "cell_type": "code",
   "execution_count": 17,
   "id": "e273a26b",
   "metadata": {},
   "outputs": [
    {
     "name": "stdout",
     "output_type": "stream",
     "text": [
      "            rating color\n",
      "Price range             \n",
      "1             Dark Green\n",
      "2             Dark Green\n",
      "3             Dark Green\n",
      "4             Dark Green\n"
     ]
    }
   ],
   "source": [
    "#put our needed dictionary in a dataframe and rename indices and column\n",
    "result=pd.DataFrame.from_dict(price_range_rating,orient='index')\n",
    "result.index.name='Price range'\n",
    "result.rename(columns={0:'rating color'},inplace=True)\n",
    "print(result)"
   ]
  },
  {
   "cell_type": "markdown",
   "id": "ea453cf3",
   "metadata": {},
   "source": [
    "<h2>Task 3</h2>\n",
    "Feature Engineering"
   ]
  },
  {
   "cell_type": "markdown",
   "id": "ffceb6f5",
   "metadata": {},
   "source": [
    "**1. To Extract additional features from the existing\n",
    "columns, such as the length of the restaurant\n",
    "name or address.**"
   ]
  },
  {
   "cell_type": "code",
   "execution_count": 18,
   "id": "4f3e4d35",
   "metadata": {},
   "outputs": [],
   "source": [
    "df['Length of restaurant name']=df['Restaurant Name'].apply(lambda x:len(x))\n",
    "#Here, we apply a lambda function to make a temporary function to find length of name and pass this to the name column."
   ]
  },
  {
   "cell_type": "code",
   "execution_count": 19,
   "id": "01b2c2a5",
   "metadata": {},
   "outputs": [],
   "source": [
    "df['Length of restaurant address']=df['Address'].apply(lambda x:len(x))\n",
    "#we apply the same trick for address"
   ]
  },
  {
   "cell_type": "code",
   "execution_count": 20,
   "id": "883f9f53",
   "metadata": {},
   "outputs": [
    {
     "data": {
      "text/html": [
       "<div>\n",
       "<style scoped>\n",
       "    .dataframe tbody tr th:only-of-type {\n",
       "        vertical-align: middle;\n",
       "    }\n",
       "\n",
       "    .dataframe tbody tr th {\n",
       "        vertical-align: top;\n",
       "    }\n",
       "\n",
       "    .dataframe thead th {\n",
       "        text-align: right;\n",
       "    }\n",
       "</style>\n",
       "<table border=\"1\" class=\"dataframe\">\n",
       "  <thead>\n",
       "    <tr style=\"text-align: right;\">\n",
       "      <th></th>\n",
       "      <th>Length of restaurant name</th>\n",
       "      <th>Length of restaurant address</th>\n",
       "    </tr>\n",
       "  </thead>\n",
       "  <tbody>\n",
       "    <tr>\n",
       "      <th>0</th>\n",
       "      <td>16</td>\n",
       "      <td>71</td>\n",
       "    </tr>\n",
       "    <tr>\n",
       "      <th>1</th>\n",
       "      <td>16</td>\n",
       "      <td>67</td>\n",
       "    </tr>\n",
       "    <tr>\n",
       "      <th>2</th>\n",
       "      <td>22</td>\n",
       "      <td>56</td>\n",
       "    </tr>\n",
       "    <tr>\n",
       "      <th>3</th>\n",
       "      <td>4</td>\n",
       "      <td>70</td>\n",
       "    </tr>\n",
       "    <tr>\n",
       "      <th>4</th>\n",
       "      <td>11</td>\n",
       "      <td>64</td>\n",
       "    </tr>\n",
       "    <tr>\n",
       "      <th>...</th>\n",
       "      <td>...</td>\n",
       "      <td>...</td>\n",
       "    </tr>\n",
       "    <tr>\n",
       "      <th>9546</th>\n",
       "      <td>11</td>\n",
       "      <td>103</td>\n",
       "    </tr>\n",
       "    <tr>\n",
       "      <th>9547</th>\n",
       "      <td>12</td>\n",
       "      <td>77</td>\n",
       "    </tr>\n",
       "    <tr>\n",
       "      <th>9548</th>\n",
       "      <td>5</td>\n",
       "      <td>73</td>\n",
       "    </tr>\n",
       "    <tr>\n",
       "      <th>9549</th>\n",
       "      <td>11</td>\n",
       "      <td>75</td>\n",
       "    </tr>\n",
       "    <tr>\n",
       "      <th>9550</th>\n",
       "      <td>24</td>\n",
       "      <td>65</td>\n",
       "    </tr>\n",
       "  </tbody>\n",
       "</table>\n",
       "<p>9551 rows × 2 columns</p>\n",
       "</div>"
      ],
      "text/plain": [
       "      Length of restaurant name  Length of restaurant address\n",
       "0                            16                            71\n",
       "1                            16                            67\n",
       "2                            22                            56\n",
       "3                             4                            70\n",
       "4                            11                            64\n",
       "...                         ...                           ...\n",
       "9546                         11                           103\n",
       "9547                         12                            77\n",
       "9548                          5                            73\n",
       "9549                         11                            75\n",
       "9550                         24                            65\n",
       "\n",
       "[9551 rows x 2 columns]"
      ]
     },
     "execution_count": 20,
     "metadata": {},
     "output_type": "execute_result"
    }
   ],
   "source": [
    "df[['Length of restaurant name','Length of restaurant address']]\n",
    "#new columns with extracted features have been added to our dataframe"
   ]
  },
  {
   "cell_type": "markdown",
   "id": "7b2c58b8",
   "metadata": {},
   "source": [
    "**2. To Create new features like \"Has Table Booking\"\n",
    "or \"Has Online Delivery\" by encoding\n",
    "categorical variables**"
   ]
  },
  {
   "cell_type": "code",
   "execution_count": 21,
   "id": "0169ae46",
   "metadata": {},
   "outputs": [
    {
     "data": {
      "text/plain": [
       "Has Table booking  Has Online delivery\n",
       "No                 No                     6377\n",
       "                   Yes                    2016\n",
       "Yes                No                      723\n",
       "                   Yes                     435\n",
       "Name: count, dtype: int64"
      ]
     },
     "execution_count": 21,
     "metadata": {},
     "output_type": "execute_result"
    }
   ],
   "source": [
    "#we can see that, these two columns have only two values 'yes' and 'no'\n",
    "df[['Has Table booking','Has Online delivery']].value_counts()"
   ]
  },
  {
   "cell_type": "code",
   "execution_count": 22,
   "id": "fc2bc140",
   "metadata": {},
   "outputs": [],
   "source": [
    "#we can encode them using dummy variables\n",
    "x=pd.get_dummies(df[['Has Table booking','Has Online delivery']])"
   ]
  },
  {
   "cell_type": "code",
   "execution_count": 23,
   "id": "c70735b5",
   "metadata": {},
   "outputs": [],
   "source": [
    "#remodelling data by removing unnecessary columns and renaming them\n",
    "x.drop(['Has Table booking_No','Has Online delivery_No'],axis=1,inplace=True)\n",
    "x.rename(columns={'Has Table booking_Yes':'Has Table booking','Has Online delivery_Yes':'Has Online delivery'},inplace=True)"
   ]
  },
  {
   "cell_type": "code",
   "execution_count": 24,
   "id": "077c8afd",
   "metadata": {},
   "outputs": [],
   "source": [
    "#assigning the new values in the table x to our original dataframe df\n",
    "df[['Has Table booking','Has Online delivery']]=x"
   ]
  },
  {
   "cell_type": "code",
   "execution_count": 25,
   "id": "a9a73385",
   "metadata": {},
   "outputs": [
    {
     "data": {
      "text/html": [
       "<div>\n",
       "<style scoped>\n",
       "    .dataframe tbody tr th:only-of-type {\n",
       "        vertical-align: middle;\n",
       "    }\n",
       "\n",
       "    .dataframe tbody tr th {\n",
       "        vertical-align: top;\n",
       "    }\n",
       "\n",
       "    .dataframe thead th {\n",
       "        text-align: right;\n",
       "    }\n",
       "</style>\n",
       "<table border=\"1\" class=\"dataframe\">\n",
       "  <thead>\n",
       "    <tr style=\"text-align: right;\">\n",
       "      <th></th>\n",
       "      <th>Has Table booking</th>\n",
       "      <th>Has Online delivery</th>\n",
       "    </tr>\n",
       "  </thead>\n",
       "  <tbody>\n",
       "    <tr>\n",
       "      <th>0</th>\n",
       "      <td>True</td>\n",
       "      <td>False</td>\n",
       "    </tr>\n",
       "    <tr>\n",
       "      <th>1</th>\n",
       "      <td>True</td>\n",
       "      <td>False</td>\n",
       "    </tr>\n",
       "    <tr>\n",
       "      <th>2</th>\n",
       "      <td>True</td>\n",
       "      <td>False</td>\n",
       "    </tr>\n",
       "    <tr>\n",
       "      <th>3</th>\n",
       "      <td>False</td>\n",
       "      <td>False</td>\n",
       "    </tr>\n",
       "    <tr>\n",
       "      <th>4</th>\n",
       "      <td>True</td>\n",
       "      <td>False</td>\n",
       "    </tr>\n",
       "    <tr>\n",
       "      <th>...</th>\n",
       "      <td>...</td>\n",
       "      <td>...</td>\n",
       "    </tr>\n",
       "    <tr>\n",
       "      <th>9546</th>\n",
       "      <td>False</td>\n",
       "      <td>False</td>\n",
       "    </tr>\n",
       "    <tr>\n",
       "      <th>9547</th>\n",
       "      <td>False</td>\n",
       "      <td>False</td>\n",
       "    </tr>\n",
       "    <tr>\n",
       "      <th>9548</th>\n",
       "      <td>False</td>\n",
       "      <td>False</td>\n",
       "    </tr>\n",
       "    <tr>\n",
       "      <th>9549</th>\n",
       "      <td>False</td>\n",
       "      <td>False</td>\n",
       "    </tr>\n",
       "    <tr>\n",
       "      <th>9550</th>\n",
       "      <td>False</td>\n",
       "      <td>False</td>\n",
       "    </tr>\n",
       "  </tbody>\n",
       "</table>\n",
       "<p>9551 rows × 2 columns</p>\n",
       "</div>"
      ],
      "text/plain": [
       "      Has Table booking  Has Online delivery\n",
       "0                  True                False\n",
       "1                  True                False\n",
       "2                  True                False\n",
       "3                 False                False\n",
       "4                  True                False\n",
       "...                 ...                  ...\n",
       "9546              False                False\n",
       "9547              False                False\n",
       "9548              False                False\n",
       "9549              False                False\n",
       "9550              False                False\n",
       "\n",
       "[9551 rows x 2 columns]"
      ]
     },
     "execution_count": 25,
     "metadata": {},
     "output_type": "execute_result"
    }
   ],
   "source": [
    "df[['Has Table booking','Has Online delivery']]\n",
    "#categorical variables have been encoded as true and false"
   ]
  },
  {
   "cell_type": "markdown",
   "id": "8360fbfd",
   "metadata": {},
   "source": [
    "<h2>Project Conclusion</h2>\n",
    "\n",
    "Table Booking and Online Delivery:\n",
    "\n",
    "- Approximately 21.10% of the restaurants offer only online delivery\n",
    "- Restaurants with table booking have a higher average rating of 3.44, compared to 2.55 for those without this service.\n",
    "- Online delivery is more among restaurants with price range 1.\n",
    "\n",
    "Price Range Analysis:\n",
    "\n",
    "- The most common price range among restaurants is 1.\n",
    "- Restaurants in price range 4 have the most aggregate rating.\n",
    "\n",
    "Feature Engineering:\n",
    "\n",
    "- Introduced two new columns, 'Length of restaurant name' and 'Length of restaurant address' based on the length of restaurant names and addresses.\n",
    "- Created two binary columns, 'Has Table Booking' and 'Has Online Delivery,' by creating dummy variables."
   ]
  }
 ],
 "metadata": {
  "kernelspec": {
   "display_name": "Python 3 (ipykernel)",
   "language": "python",
   "name": "python3"
  },
  "language_info": {
   "codemirror_mode": {
    "name": "ipython",
    "version": 3
   },
   "file_extension": ".py",
   "mimetype": "text/x-python",
   "name": "python",
   "nbconvert_exporter": "python",
   "pygments_lexer": "ipython3",
   "version": "3.11.5"
  }
 },
 "nbformat": 4,
 "nbformat_minor": 5
}
